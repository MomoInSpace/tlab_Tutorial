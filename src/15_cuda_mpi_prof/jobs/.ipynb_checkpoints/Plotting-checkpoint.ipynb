{
 "cells": [
  {
   "cell_type": "markdown",
   "id": "cfb341d4-0090-492a-a870-75528a3f682a",
   "metadata": {},
   "source": [
    "# Plotting GPU VS CPU"
   ]
  },
  {
   "cell_type": "code",
   "execution_count": 1,
   "id": "a52affeb-c807-4c45-a2ef-081f6606a5c8",
   "metadata": {
    "tags": []
   },
   "outputs": [],
   "source": [
    "import numpy as np\n",
    "import matplotlib.pyplot as plt\n",
    "# import pandas as pd \n"
   ]
  },
  {
   "cell_type": "code",
   "execution_count": 12,
   "id": "a4cea2b2-9092-4874-aa87-f181008d6293",
   "metadata": {
    "tags": []
   },
   "outputs": [
    {
     "data": {
      "text/plain": [
       "[array([3.0000e+03, 2.6050e+00, 1.9321e+01]),\n",
       " array([3000.    ,    5.1574,   19.381 ]),\n",
       " array([3000.   ,    8.071,   19.415]),\n",
       " array([3000.   ,   11.042,   19.476])]"
      ]
     },
     "execution_count": 12,
     "metadata": {},
     "output_type": "execute_result"
    }
   ],
   "source": [
    "tasks = [5,10,15,20]\n",
    "time_array = []\n",
    "\n",
    "for task in tasks:\n",
    "    time_array.append(np.genfromtxt(f\"./Run1_20Tasks/run_times_3000_3000_5_{task}only5.csv\", delimiter=\",\")[:-1])#,invalid_raise=False)#, usemask=True))\n",
    "time_array"
   ]
  },
  {
   "cell_type": "code",
   "execution_count": 17,
   "id": "d0c817b6-526f-4a92-8f40-02e7138f7a40",
   "metadata": {
    "tags": []
   },
   "outputs": [],
   "source": [
    "time_cpu = []\n",
    "time_gpu = []\n",
    "for array in time_array:\n",
    "    time_gpu.append(array[1])\n",
    "    time_cpu.append(array[2])"
   ]
  },
  {
   "cell_type": "code",
   "execution_count": 18,
   "id": "c81a200b-83af-482f-810c-c44eb9eabceb",
   "metadata": {
    "tags": []
   },
   "outputs": [
    {
     "data": {
      "image/png": "[encoded data removed]",
      "text/plain": [
       "<Figure size 432x288 with 1 Axes>"
      ]
     },
     "metadata": {
      "needs_background": "light"
     },
     "output_type": "display_data"
    }
   ],
   "source": [
    "\n",
    "plt.plot(tasks,time_gpu,label=\"gpu device\")\n",
    "\n",
    "plt.plot(tasks, time_cpu,label=\"cpu fast\")\n",
    "\n",
    "plt.legend()\n",
    "plt.savefig(\"times5_to_20.png\")\n",
    "\n"
   ]
  },
  {
   "cell_type": "code",
   "execution_count": null,
   "id": "5e341897-1c40-43da-a0c4-f70f3fd6febd",
   "metadata": {},
   "outputs": [],
   "source": [
    "# print(times)          # Test if it reads values\n",
    "\n",
    "# for time in times:    # Fast Plot\n",
    "#     plt.plot(time)\n",
    "\n",
    "# Clean Plot:\n",
    "#plt.semilogy(times[0],times[1],label=\"cpu slow\")\n",
    "plt.plot(times[0],times[1],label=\"gpu device\")\n",
    "#plt.semilogy(times[0],times[3],label=\"gpu acc\")\n",
    "plt.plot(times[0],times[2],label=\"cpu fast\")\n",
    "#plt.semilogy(times[0],times[5],label=\"cpu fast\")\n",
    "\n",
    "# plt.plot(times[0],times[7],label=\"gpu intrinsic\")\n",
    "\n",
    "\n",
    "plt.legend()\n",
    "plt.savefig(\"times.png\")\n",
    "#plt.show()\n"
   ]
  }
 ],
 "metadata": {
  "kernelspec": {
   "display_name": "Python 3",
   "language": "python",
   "name": "python3"
  },
  "language_info": {
   "codemirror_mode": {
    "name": "ipython",
    "version": 3
   },
   "file_extension": ".py",
   "mimetype": "text/x-python",
   "name": "python",
   "nbconvert_exporter": "python",
   "pygments_lexer": "ipython3",
   "version": "3.9.9"
  }
 },
 "nbformat": 4,
 "nbformat_minor": 5
}
